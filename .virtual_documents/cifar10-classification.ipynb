import pandas as pd
import numpy as np
import matplotlib.pyplot as plt
import seaborn


(X_train, y_train), (X_test, y_test) = cifar10.load_data()


#0. Airplanes
#1. Cars
#2. Birds
#3. Cats
#4. Deers
#5. Dogs
#6. Frogs
#7. Horses
#8. Ships
#9. Trucks


from keras.datasets import cifar10


X_train.shape


#50,000 images, each image consists 32x32 and 3 channels


X_test.shape


y_train.shape


y_test.shape


#Data Visualization


i = 2345
plt.imshow(X_train[i])
print(y_train[i]) #x represents the image, y represents the class


W_grid = 15


L_grid = 15


fig, axes = plt.subplots(L_grid, W_grid, figsize = (25, 25))
axes = axes.ravel()

n_training = len(X_train)

for x in np.arange(0, L_grid * W_grid): #Adding a random image in each cell in the 15x15 grid
    index = np.random.randint(0, n_training)
    axes[x].imshow(X_train[index])


n_training






